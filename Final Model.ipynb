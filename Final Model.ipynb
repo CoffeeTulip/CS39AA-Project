{
  "nbformat": 4,
  "nbformat_minor": 0,
  "metadata": {
    "colab": {
      "provenance": [],
      "gpuType": "T4",
      "authorship_tag": "ABX9TyOZQVidXJSFAKroh9uP4HLB",
      "include_colab_link": true
    },
    "kernelspec": {
      "name": "python3",
      "display_name": "Python 3"
    },
    "language_info": {
      "name": "python"
    },
    "accelerator": "GPU"
  },
  "cells": [
    {
      "cell_type": "markdown",
      "metadata": {
        "id": "view-in-github",
        "colab_type": "text"
      },
      "source": [
        "<a href=\"https://colab.research.google.com/github/CoffeeTulip/CS39AA-Project/blob/main/ProjectPart3.ipynb\" target=\"_parent\"><img src=\"https://colab.research.google.com/assets/colab-badge.svg\" alt=\"Open In Colab\"/></a>"
      ]
    },
    {
      "cell_type": "markdown",
      "source": [
        "#Imports"
      ],
      "metadata": {
        "id": "LRGNuhXBMLP5"
      }
    },
    {
      "cell_type": "code",
      "source": [
        "from google.colab import drive\n",
        "drive.mount('/content/gdrive')"
      ],
      "metadata": {
        "id": "6C6aWKDqoCrP"
      },
      "execution_count": null,
      "outputs": []
    },
    {
      "cell_type": "code",
      "execution_count": null,
      "metadata": {
        "id": "yjJepZctLyH5"
      },
      "outputs": [],
      "source": [
        "# import all of the python modules/packages you'll need here\n",
        "import pandas as pd\n",
        "import matplotlib.pyplot as plt\n",
        "import numpy as np\n",
        "!pip install datasets\n",
        "!pip install nltk\n",
        "!pip install sentencepiece\n",
        "import datasets\n",
        "from datasets import load_dataset\n",
        "from datasets import DatasetDict\n",
        "import nltk\n",
        "\n",
        "nltk.download('punkt')\n",
        "nltk.download('stopwords')\n",
        "from collections import Counter\n",
        "from nltk.tokenize import word_tokenize\n",
        "from nltk.corpus import stopwords\n",
        "import string"
      ]
    },
    {
      "cell_type": "markdown",
      "source": [
        "#Data Pre-processing"
      ],
      "metadata": {
        "id": "Mms48Ix6MPc1"
      }
    },
    {
      "cell_type": "code",
      "source": [
        "# Convert dataset dict to dataset, seperate the splits from the whole so I can view it and alter it better\n",
        "df = load_dataset(\"Amani27/massive_translation_dataset\")\n",
        "df = DatasetDict(df)\n",
        "\n",
        "df_train = pd.DataFrame.from_dict(df['train'])\n",
        "df_validation = pd.DataFrame.from_dict(df['validation'])\n",
        "df_test = pd.DataFrame.from_dict(df['test'])\n",
        "df = pd.concat([df_train, df_validation, df_test], ignore_index=True)"
      ],
      "metadata": {
        "id": "y9dbCWRXYXNq"
      },
      "execution_count": null,
      "outputs": []
    },
    {
      "cell_type": "code",
      "source": [
        "columns_to_drop = ['id', 'split', 'de_DE', 'hi_IN', 'fr_FR', 'it_IT', 'ar_SA', 'nl_NL', 'ja_JP', 'pt_PT' ]\n",
        "df = df.drop(columns = columns_to_drop)"
      ],
      "metadata": {
        "id": "rpm8KjxuXtyj"
      },
      "execution_count": null,
      "outputs": []
    },
    {
      "cell_type": "markdown",
      "source": [
        "#Text cleaning\n",
        "*the text is pretty clean already... but just for practice :D*"
      ],
      "metadata": {
        "id": "39AKIz2EMHhH"
      }
    },
    {
      "cell_type": "code",
      "source": [
        "english_column = 'en_US'\n",
        "spanish_column = 'es_ES'\n",
        "\n",
        "# Tokenize English. The text dataset looked cleaned up already but just to be safe\n",
        "english_text = ' '.join(df[english_column].astype(str).values)\n",
        "english_tokens = word_tokenize(english_text.lower())\n",
        "\n",
        "# Remove stopwords and punctuation\n",
        "stop_words = set(stopwords.words('english') + list(string.punctuation))\n",
        "english_filtered_tokens = [word for word in english_tokens if word.isalnum() and word not in stop_words]\n",
        "\n",
        "# Get the most common words in English\n",
        "english_common_words = Counter(english_filtered_tokens).most_common(10)\n",
        "\n",
        "# Tokenize Spanish\n",
        "spanish_text = ' '.join(df[spanish_column].astype(str).values)\n",
        "spanish_tokens = word_tokenize(spanish_text.lower())  # Convert to lowercase for consistency\n",
        "\n",
        "# Remove stopwords and punctuation\n",
        "stop_words = set(stopwords.words('spanish') + list(string.punctuation))\n",
        "spanish_filtered_tokens = [word for word in spanish_tokens if word.isalnum() and word not in stop_words]\n",
        "\n",
        "# Get the most common words in Spanish\n",
        "spanish_common_words = Counter(spanish_filtered_tokens).most_common(10)\n",
        "\n",
        "\n",
        "# Display the results\n",
        "print(\"Most common words in English:\")\n",
        "print(english_common_words)\n",
        "\n",
        "print(\"\\nMost common words in Spanish:\")\n",
        "print(spanish_common_words)"
      ],
      "metadata": {
        "colab": {
          "base_uri": "https://localhost:8080/"
        },
        "id": "SJgxyg_sMDvk",
        "outputId": "6aab5fa3-9b15-4f4c-b6d6-07c4ab21fa81"
      },
      "execution_count": null,
      "outputs": [
        {
          "output_type": "stream",
          "name": "stdout",
          "text": [
            "Most common words in English:\n",
            "[('please', 1440), ('play', 1173), ('today', 849), ('list', 770), ('email', 718), ('new', 701), ('tell', 697), ('time', 650), ('set', 563), ('olly', 534)]\n",
            "\n",
            "Most common words in Spanish:\n",
            "[('favor', 1284), ('hoy', 865), ('lista', 859), ('correo', 859), ('mañana', 765), ('pon', 728), ('hora', 591), ('electrónico', 554), ('cuál', 542), ('puedes', 511)]\n"
          ]
        }
      ]
    },
    {
      "cell_type": "code",
      "source": [
        "from sklearn.model_selection import train_test_split\n",
        "\n",
        "df.reset_index(drop=True, inplace=True)\n",
        "\n",
        "X = df['en_US'].values\n",
        "y = df['es_ES'].values"
      ],
      "metadata": {
        "id": "0qUDJifA3sSy"
      },
      "execution_count": null,
      "outputs": []
    },
    {
      "cell_type": "code",
      "source": [
        "# Drop the name Olly\n",
        "df['en_US'] = df['en_US'].str.replace(r'\\b(?:olly|Olly)\\b', '', regex=True)\n",
        "df['es_ES'] = df['es_ES'].str.replace(r'\\b(?:olly|Olly)\\b', '', regex=True)"
      ],
      "metadata": {
        "id": "9ALSN2mb3t4L"
      },
      "execution_count": null,
      "outputs": []
    },
    {
      "cell_type": "code",
      "source": [
        "# Assuming df is your DataFrame with columns 'en_US' and 'es_ES'\n",
        "X_train, X_temp, y_train, y_temp = train_test_split(X, y, test_size=0.2, random_state=42)\n",
        "X_val, X_test, y_val, y_test = train_test_split(X_temp, y_temp, test_size=0.5, random_state=42)"
      ],
      "metadata": {
        "id": "wyVrg06VGq8C"
      },
      "execution_count": null,
      "outputs": []
    },
    {
      "cell_type": "code",
      "source": [
        "X_train = X_train.tolist()\n",
        "X_val = X_val.tolist()\n",
        "X_test = X_test.tolist()\n",
        "y_train = y_train.tolist()\n",
        "y_val = y_val.tolist()\n",
        "y_test = y_test.tolist()"
      ],
      "metadata": {
        "id": "ZHmIjzZ6Lk0l"
      },
      "execution_count": null,
      "outputs": []
    },
    {
      "cell_type": "markdown",
      "source": [
        "#Quick Model\n",
        "##T5-Small Hugging Face Translator model"
      ],
      "metadata": {
        "id": "T5OMLWAEMUE-"
      }
    },
    {
      "cell_type": "code",
      "source": [
        "import torch\n",
        "from torch.utils.data import DataLoader, Dataset\n",
        "from transformers import T5Tokenizer, T5ForConditionalGeneration, AdamW\n",
        "\n",
        "# Use a pipeline as a high-level helper\n",
        "from transformers import pipeline\n",
        "\n",
        "pipe = pipeline(\"translation\", model=\"t5-small\")\n",
        "\n",
        "# Load model directly\n",
        "from transformers import AutoTokenizer, AutoModelForSeq2SeqLM\n",
        "\n",
        "tokenizer = AutoTokenizer.from_pretrained(\"t5-small\")\n",
        "model = T5ForConditionalGeneration.from_pretrained('t5-small')"
      ],
      "metadata": {
        "id": "RN9OaNuKMTtU"
      },
      "execution_count": null,
      "outputs": []
    },
    {
      "cell_type": "markdown",
      "source": [
        "# Custom dataset class"
      ],
      "metadata": {
        "id": "lSF6Zdn7EMqg"
      }
    },
    {
      "cell_type": "code",
      "source": [
        "class CustomDataset(Dataset):\n",
        "    def __init__(self, input_texts, target_texts, tokenizer, max_length=128, is_test=False):\n",
        "        self.input_texts = input_texts\n",
        "        self.target_texts = target_texts\n",
        "        self.tokenizer = tokenizer\n",
        "        self.max_length = max_length\n",
        "        self.is_test = is_test\n",
        "\n",
        "    def __len__(self):\n",
        "        return len(self.input_texts)\n",
        "\n",
        "    def __getitem__(self, idx):\n",
        "        input_text = self.input_texts[idx]\n",
        "        target_text = self.target_texts[idx]\n",
        "\n",
        "        # Encode input text\n",
        "        inputs = self.tokenizer.encode_plus(\n",
        "            input_text,\n",
        "            max_length=self.max_length,\n",
        "            padding='max_length',\n",
        "            truncation=True,\n",
        "            return_tensors='pt'\n",
        "        )\n",
        "\n",
        "        if self.is_test:\n",
        "            # For test set, only input_ids and attention_mask are needed\n",
        "            return {\n",
        "                'input_ids': inputs['input_ids'].squeeze(),\n",
        "                'attention_mask': inputs['attention_mask'].squeeze(),\n",
        "            }\n",
        "        else:\n",
        "            # Encode target text for training\n",
        "            targets = self.tokenizer.encode_plus(\n",
        "                target_text,\n",
        "                max_length=self.max_length,\n",
        "                padding='max_length',\n",
        "                truncation=True,\n",
        "                return_tensors='pt'\n",
        "            )\n",
        "\n",
        "            return {\n",
        "                'input_ids': inputs['input_ids'].squeeze(),\n",
        "                'attention_mask': inputs['attention_mask'].squeeze(),\n",
        "                'labels': targets['input_ids'].squeeze()\n",
        "            }"
      ],
      "metadata": {
        "id": "IGkOiz7j8NZS"
      },
      "execution_count": null,
      "outputs": []
    },
    {
      "cell_type": "code",
      "source": [
        "tokenizer = T5Tokenizer.from_pretrained('t5-small')\n",
        "\n",
        "english_tokens = tokenizer(X_train, return_tensors='pt', padding=True, truncation=True)\n",
        "valid_english_tokens = tokenizer(X_val, return_tensors='pt', padding=True, truncation=True)\n",
        "test_english_tokens = tokenizer(X_test, return_tensors='pt', padding=True, truncation=True)\n",
        "\n",
        "spanish_tokens = tokenizer(y_train, return_tensors='pt', padding=True, truncation=True)\n",
        "valid_spanish_tokens = tokenizer(y_val, return_tensors='pt', padding=True, truncation=True)\n",
        "test_spanish_tokens = tokenizer(y_test, return_tensors='pt', padding=True, truncation=True)"
      ],
      "metadata": {
        "id": "YWePakz-8TOu"
      },
      "execution_count": null,
      "outputs": []
    },
    {
      "cell_type": "code",
      "source": [
        "test_dataset = CustomDataset(X_test, y_test, tokenizer, is_test=True)\n",
        "test_dataloader = DataLoader(test_dataset, batch_size=32, shuffle=True)"
      ],
      "metadata": {
        "id": "g2Z5EnU-9gdf"
      },
      "execution_count": null,
      "outputs": []
    },
    {
      "cell_type": "markdown",
      "source": [
        "# Model Testing"
      ],
      "metadata": {
        "id": "QHhjDjs4AqPU"
      }
    },
    {
      "cell_type": "markdown",
      "source": [],
      "metadata": {
        "id": "df4Yf_5oEDUo"
      }
    },
    {
      "cell_type": "code",
      "source": [
        "learning_rates = [.1, .01, .001]\n",
        "batch_sizes = [16, 32, 64]\n",
        "\n",
        "num_epochs = 1\n",
        "device = torch.device(\"cuda\" if torch.cuda.is_available() else \"cpu\")\n",
        "\n",
        "dataset = CustomDataset(X_train, y_train, tokenizer)\n",
        "valid_dataset = CustomDataset(X_val, y_val, tokenizer)\n",
        "\n",
        "train_losses = []\n",
        "val_losses = []\n",
        "\n",
        "for lr in learning_rates:\n",
        "    for batch_size in batch_sizes:\n",
        "\n",
        "      dataloader = DataLoader(dataset, batch_size=batch_size, shuffle=True)\n",
        "      valid_dataloader = DataLoader(valid_dataset, batch_size=batch_size, shuffle=True)\n",
        "\n",
        "      model = T5ForConditionalGeneration.from_pretrained('t5-small')\n",
        "      optimizer = AdamW(model.parameters(), lr=lr)\n",
        "      scheduler = torch.optim.lr_scheduler.StepLR(optimizer, step_size=1, gamma=0.9)\n",
        "      #------------------------------------------------------------------------------\n",
        "      model.to(device)\n",
        "      model.train()\n",
        "\n",
        "      epoch_train_losses = []\n",
        "      epoch_val_losses = []\n",
        "\n",
        "      for epoch in range(num_epochs):\n",
        "          # Training phase\n",
        "          for batch in dataloader:\n",
        "              input_ids = batch['input_ids'].to(device)\n",
        "              attention_mask = batch['attention_mask'].to(device)\n",
        "              labels = batch['labels'].to(device)\n",
        "\n",
        "              outputs = model(input_ids, attention_mask=attention_mask, labels=labels)\n",
        "              loss = outputs.loss\n",
        "\n",
        "              optimizer.zero_grad()\n",
        "              loss.backward()\n",
        "              optimizer.step()\n",
        "\n",
        "          # Validation phase\n",
        "          model.eval()\n",
        "          total_validation_loss = 0.0\n",
        "\n",
        "          with torch.no_grad():\n",
        "              for batch_val in valid_dataloader:\n",
        "                  input_ids_val = batch_val['input_ids'].to(device)\n",
        "                  attention_mask_val = batch_val['attention_mask'].to(device)\n",
        "                  labels_val = batch_val['labels'].to(device)\n",
        "\n",
        "                  outputs_val = model(input_ids_val, attention_mask=attention_mask_val, labels=labels_val)\n",
        "                  loss_val = outputs_val.loss\n",
        "\n",
        "                  total_validation_loss += loss_val.item()\n",
        "\n",
        "          average_validation_loss = total_validation_loss / len(valid_dataloader)\n",
        "\n",
        "          # Store losses for the current epoch\n",
        "          epoch_train_losses.append(loss.item())\n",
        "          epoch_val_losses.append(average_validation_loss)\n",
        "\n",
        "          print(f'Epoch {epoch + 1}/{num_epochs}, Training Loss: {loss.item()}, Validation Loss: {average_validation_loss}')\n",
        "\n",
        "          # Set the model back to training mode\n",
        "          model.train()\n",
        "\n",
        "      # Append the final losses for this combination\n",
        "      train_losses.append(epoch_train_losses)\n",
        "      val_losses.append(epoch_val_losses)"
      ],
      "metadata": {
        "id": "cpve077fAj6p"
      },
      "execution_count": null,
      "outputs": []
    },
    {
      "cell_type": "code",
      "source": [
        "!pip install tabulate"
      ],
      "metadata": {
        "id": "3P-6nqUs4JD6",
        "colab": {
          "base_uri": "https://localhost:8080/"
        },
        "outputId": "244a6c69-dfa7-41d6-aecc-8b3bd9a0c37c"
      },
      "execution_count": null,
      "outputs": [
        {
          "output_type": "stream",
          "name": "stdout",
          "text": [
            "Requirement already satisfied: tabulate in /usr/local/lib/python3.10/dist-packages (0.9.0)\n"
          ]
        }
      ]
    },
    {
      "cell_type": "code",
      "source": [
        "from tabulate import tabulate\n",
        "\n",
        "# Print a table\n",
        "table_data = []\n",
        "for i, lr in enumerate(learning_rates):\n",
        "    for j, batch_size in enumerate(batch_sizes):\n",
        "        table_data.append([f'LR={lr}, Batch={batch_size}', train_losses[i * len(batch_sizes) + j][-1], val_losses[i * len(batch_sizes) + j][-1]])\n",
        "\n",
        "headers = ['Combination', 'Train Loss', 'Validation Loss']\n",
        "table = tabulate(table_data, headers, tablefmt='grid', numalign=\"center\", stralign=\"center\")\n",
        "\n",
        "print(\"Loss Values for Each Combination:\")\n",
        "print(table)"
      ],
      "metadata": {
        "id": "AkDZm46J4KP7",
        "colab": {
          "base_uri": "https://localhost:8080/"
        },
        "outputId": "71fb7f1d-142f-4b15-a61d-fc42fd53c493"
      },
      "execution_count": null,
      "outputs": [
        {
          "output_type": "stream",
          "name": "stdout",
          "text": [
            "Loss Values for Each Combination:\n",
            "+--------------------+--------------+-------------------+\n",
            "|    Combination     |  Train Loss  |  Validation Loss  |\n",
            "+====================+==============+===================+\n",
            "|  LR=0.1, Batch=16  |   0.65961    |     0.715642      |\n",
            "+--------------------+--------------+-------------------+\n",
            "|  LR=0.1, Batch=32  |   0.727282   |     0.692585      |\n",
            "+--------------------+--------------+-------------------+\n",
            "|  LR=0.1, Batch=64  |   0.694337   |     0.690754      |\n",
            "+--------------------+--------------+-------------------+\n",
            "| LR=0.01, Batch=16  |   0.535801   |     0.507649      |\n",
            "+--------------------+--------------+-------------------+\n",
            "| LR=0.01, Batch=32  |   0.242965   |     0.219603      |\n",
            "+--------------------+--------------+-------------------+\n",
            "| LR=0.01, Batch=64  |   0.291425   |     0.232748      |\n",
            "+--------------------+--------------+-------------------+\n",
            "| LR=0.001, Batch=16 |   0.259864   |     0.172503      |\n",
            "+--------------------+--------------+-------------------+\n",
            "| LR=0.001, Batch=32 |   0.296952   |     0.188898      |\n",
            "+--------------------+--------------+-------------------+\n",
            "| LR=0.001, Batch=64 |   0.306697   |     0.243747      |\n",
            "+--------------------+--------------+-------------------+\n"
          ]
        }
      ]
    },
    {
      "cell_type": "code",
      "source": [
        "# Bar graph\n",
        "width = 0.35\n",
        "x = np.arange(len(learning_rates) * len(batch_sizes))\n",
        "\n",
        "fig, ax = plt.subplots(figsize=(12, 6))\n",
        "for i, lr in enumerate(learning_rates):\n",
        "    for j, batch_size in enumerate(batch_sizes):\n",
        "        train_bar = ax.bar(x[i * len(batch_sizes) + j] - width/2, train_losses[i * len(batch_sizes) + j][-1], width, label=f'Train LR={lr}, Batch={batch_size}')\n",
        "        val_bar = ax.bar(x[i * len(batch_sizes) + j] + width/2, val_losses[i * len(batch_sizes) + j][-1], width, label=f'Val LR={lr}, Batch={batch_size}', hatch='//')\n",
        "\n",
        "ax.set_xticks(x)\n",
        "ax.set_xticklabels([f'LR={lr}, Batch={batch_size}' for lr in learning_rates for batch_size in batch_sizes])\n",
        "ax.set_xlabel('Learning Rate and Batch Size')\n",
        "ax.set_ylabel('Loss')\n",
        "ax.legend(loc='upper left', bbox_to_anchor=(1, 1))\n",
        "plt.show()"
      ],
      "metadata": {
        "id": "dHuYcLBq2EDl",
        "colab": {
          "base_uri": "https://localhost:8080/",
          "height": 542
        },
        "outputId": "ebdc7692-38fd-4e60-d722-27b08abc9b81"
      },
      "execution_count": null,
      "outputs": [
        {
          "output_type": "display_data",
          "data": {
            "text/plain": [
              "<Figure size 1200x600 with 1 Axes>"
            ],
            "image/png": "[encoded data removed]"
          },
          "metadata": {}
        }
      ]
    },
    {
      "cell_type": "markdown",
      "source": [
        "#Fine Tuning\n",
        "#### Looking at the results from testing different hyperparameters above, the loss and batch size values that minimize loss are .001 and 16 respectivley."
      ],
      "metadata": {
        "id": "YzB9R4Qh4vFc"
      }
    },
    {
      "cell_type": "code",
      "source": [
        "dataset = CustomDataset(X_train, y_train, tokenizer)\n",
        "valid_dataset = CustomDataset(X_val, y_val, tokenizer)\n",
        "\n",
        "dataloader = DataLoader(dataset, batch_size=32, shuffle=True)\n",
        "valid_dataloader = DataLoader(valid_dataset, batch_size=32, shuffle=True)\n",
        "\n",
        "model = T5ForConditionalGeneration.from_pretrained('t5-small')\n",
        "optimizer = AdamW(model.parameters(), lr=.001)\n",
        "scheduler = torch.optim.lr_scheduler.StepLR(optimizer, step_size=1, gamma=0.9)\n",
        "#------------------------------------------------------------------------------"
      ],
      "metadata": {
        "id": "ghXef88WEs9Q"
      },
      "execution_count": null,
      "outputs": []
    },
    {
      "cell_type": "code",
      "source": [
        "from torch.nn.utils import clip_grad_norm_"
      ],
      "metadata": {
        "id": "vm0ibv50HsuR"
      },
      "execution_count": null,
      "outputs": []
    },
    {
      "cell_type": "code",
      "source": [
        "device = torch.device(\"cuda\" if torch.cuda.is_available() else \"cpu\")\n",
        "model.to(device)\n",
        "model.train()\n",
        "\n",
        "train_losses = []\n",
        "val_losses = []\n",
        "\n",
        "# Define clipping threshold, try .5\n",
        "max_grad_norm = 1.0\n",
        "early_stopping_patience = 3\n",
        "early_stopping_counter = 0\n",
        "best_validation_loss = float('inf')\n",
        "\n",
        "num_epochs = 10\n",
        "for epoch in range(num_epochs):\n",
        "    # Training phase\n",
        "    for batch in dataloader:\n",
        "        input_ids = batch['input_ids'].to(device)\n",
        "        attention_mask = batch['attention_mask'].to(device)\n",
        "        labels = batch['labels'].to(device)\n",
        "\n",
        "        outputs = model(input_ids, attention_mask=attention_mask, labels=labels)\n",
        "        loss = outputs.loss\n",
        "\n",
        "        optimizer.zero_grad()\n",
        "        loss.backward()\n",
        "\n",
        "        # Apply gradient clipping\n",
        "        clip_grad_norm_(model.parameters(), max_norm=max_grad_norm)\n",
        "\n",
        "        optimizer.step()\n",
        "\n",
        "    # Validation phase\n",
        "    model.eval()\n",
        "    total_validation_loss = 0.0\n",
        "\n",
        "    with torch.no_grad():\n",
        "        for batch_val in valid_dataloader:\n",
        "            input_ids_val = batch_val['input_ids'].to(device)\n",
        "            attention_mask_val = batch_val['attention_mask'].to(device)\n",
        "            labels_val = batch_val['labels'].to(device)\n",
        "\n",
        "            outputs_val = model(input_ids_val, attention_mask=attention_mask_val, labels=labels_val)\n",
        "            loss_val = outputs_val.loss\n",
        "\n",
        "            total_validation_loss += loss_val.item()\n",
        "\n",
        "    average_validation_loss = total_validation_loss / len(valid_dataloader)\n",
        "\n",
        "    # Store losses for the current epoch\n",
        "    train_losses.append(loss.item())\n",
        "    val_losses.append(average_validation_loss)\n",
        "\n",
        "    print(f'Epoch {epoch + 1}/{num_epochs}, Training Loss: {loss.item()}, Validation Loss: {average_validation_loss}')\n",
        "\n",
        "    # Early stopping check\n",
        "    if average_validation_loss < best_validation_loss:\n",
        "        best_validation_loss = average_validation_loss\n",
        "        early_stopping_counter = 0\n",
        "    else:\n",
        "        early_stopping_counter += 1\n",
        "\n",
        "    if early_stopping_counter >= early_stopping_patience:\n",
        "        print(f'Early stopping after {epoch + 1} epochs without improvement.')\n",
        "        break  # Stop training\n",
        "\n",
        "    # Set the model back to training mode\n",
        "    model.train()"
      ],
      "metadata": {
        "id": "NrRGiQZn9jLI",
        "colab": {
          "base_uri": "https://localhost:8080/"
        },
        "outputId": "36326e2c-c21f-4c19-d134-6f6b0c81eb7d"
      },
      "execution_count": null,
      "outputs": [
        {
          "output_type": "stream",
          "name": "stdout",
          "text": [
            "Epoch 1/10, Training Loss: 0.18564429879188538, Validation Loss: 0.15351675579754206\n",
            "Epoch 2/10, Training Loss: 0.15065938234329224, Validation Loss: 0.12648543099371287\n",
            "Epoch 3/10, Training Loss: 0.1374073177576065, Validation Loss: 0.11402871488378598\n",
            "Epoch 4/10, Training Loss: 0.10746469348669052, Validation Loss: 0.10722897431025138\n",
            "Epoch 5/10, Training Loss: 0.1425897777080536, Validation Loss: 0.10211270703719212\n",
            "Epoch 6/10, Training Loss: 0.08433931320905685, Validation Loss: 0.10169866724083057\n",
            "Epoch 7/10, Training Loss: 0.07493957877159119, Validation Loss: 0.10001515432332571\n",
            "Epoch 8/10, Training Loss: 0.11114301532506943, Validation Loss: 0.10067689146559972\n",
            "Epoch 9/10, Training Loss: 0.05607796460390091, Validation Loss: 0.10106843380400768\n",
            "Epoch 10/10, Training Loss: 0.059120748192071915, Validation Loss: 0.10309260467497203\n",
            "Early stopping after 10 epochs without improvement.\n"
          ]
        }
      ]
    },
    {
      "cell_type": "markdown",
      "source": [
        "# Save model, tokenizer, and model-related info"
      ],
      "metadata": {
        "id": "S6mqSzttCAUc"
      }
    },
    {
      "cell_type": "code",
      "source": [
        "saved_data = {'model': model.state_dict(),\n",
        "              'tokenizer': tokenizer,\n",
        "              'train_losses': train_losses,\n",
        "              'val_losses': val_losses}\n",
        "\n",
        "# Save the dictionary to a file using torch.save\n",
        "torch.save(saved_data, '/content/gdrive/My Drive/Colab Notebooks/CS39AA/SpanishEnglishTranslator')"
      ],
      "metadata": {
        "id": "L9l2ICy9B_sT"
      },
      "execution_count": null,
      "outputs": []
    },
    {
      "cell_type": "markdown",
      "source": [
        "#Load from saved model\n",
        "*optional*"
      ],
      "metadata": {
        "id": "RJCdHJBp4Nv8"
      }
    },
    {
      "cell_type": "code",
      "source": [
        "from transformers import T5ForConditionalGeneration, T5Tokenizer\n",
        "\n",
        "# Load the saved dictionary\n",
        "loaded_data = torch.load('/content/gdrive/My Drive/Colab Notebooks/CS39AA/SpanishEnglishTranslator')\n",
        "\n",
        "# Extract model, tokenizer, and model-related info\n",
        "loaded_model = T5ForConditionalGeneration.from_state_dict(loaded_data['model'])\n",
        "loaded_tokenizer = loaded_data['tokenizer']\n",
        "loaded_train_losses = loaded_data['train_losses']\n",
        "loaded_val_losses = loaded_data['val_losses']"
      ],
      "metadata": {
        "id": "YI-qHEg4Gjo-"
      },
      "execution_count": null,
      "outputs": []
    },
    {
      "cell_type": "code",
      "source": [
        "# Create a list of dictionaries for each epoch\n",
        "data = [{\"Epoch\": i + 1, \"Training Loss\": train_loss, \"Validation Loss\": val_loss}\n",
        "        for i, (train_loss, val_loss) in enumerate(zip(train_losses, val_losses))]\n",
        "\n",
        "# Display the table using tabulate\n",
        "table = tabulate(data, headers = 'keys', tablefmt='grid', numalign=\"center\", stralign=\"center\")\n",
        "\n",
        "# Print the table\n",
        "print(table)\n",
        "\n",
        "# Optionally, save the table to a file\n",
        "with open(\"loss_table.txt\", \"w\") as f:\n",
        "    f.write(table)"
      ],
      "metadata": {
        "colab": {
          "base_uri": "https://localhost:8080/"
        },
        "id": "zrjAsvrh7gjV",
        "outputId": "d77b9bed-4da0-455e-cb2e-bc411a7188d2"
      },
      "execution_count": 66,
      "outputs": [
        {
          "output_type": "stream",
          "name": "stdout",
          "text": [
            "+---------+-----------------+-------------------+\n",
            "|  Epoch  |  Training Loss  |  Validation Loss  |\n",
            "+=========+=================+===================+\n",
            "|    1    |    0.185644     |     0.153517      |\n",
            "+---------+-----------------+-------------------+\n",
            "|    2    |    0.150659     |     0.126485      |\n",
            "+---------+-----------------+-------------------+\n",
            "|    3    |    0.137407     |     0.114029      |\n",
            "+---------+-----------------+-------------------+\n",
            "|    4    |    0.107465     |     0.107229      |\n",
            "+---------+-----------------+-------------------+\n",
            "|    5    |     0.14259     |     0.102113      |\n",
            "+---------+-----------------+-------------------+\n",
            "|    6    |    0.0843393    |     0.101699      |\n",
            "+---------+-----------------+-------------------+\n",
            "|    7    |    0.0749396    |     0.100015      |\n",
            "+---------+-----------------+-------------------+\n",
            "|    8    |    0.111143     |     0.100677      |\n",
            "+---------+-----------------+-------------------+\n",
            "|    9    |    0.056078     |     0.101068      |\n",
            "+---------+-----------------+-------------------+\n",
            "|   10    |    0.0591207    |     0.103093      |\n",
            "+---------+-----------------+-------------------+\n"
          ]
        }
      ]
    },
    {
      "cell_type": "code",
      "source": [
        "# Plot the training and validation losses\n",
        "plt.plot(train_losses, label='Training Loss')\n",
        "plt.plot(val_losses, label='Validation Loss')\n",
        "plt.xlabel('Epoch')\n",
        "plt.ylabel('Loss')\n",
        "plt.legend()\n",
        "plt.show()"
      ],
      "metadata": {
        "colab": {
          "base_uri": "https://localhost:8080/",
          "height": 449
        },
        "id": "AEZU-d0GIkPY",
        "outputId": "2b79cefb-7f32-4715-9ac7-1e1d35c6193f"
      },
      "execution_count": null,
      "outputs": [
        {
          "output_type": "display_data",
          "data": {
            "text/plain": [
              "<Figure size 640x480 with 1 Axes>"
            ],
            "image/png": "[encoded data removed]"
          },
          "metadata": {}
        }
      ]
    },
    {
      "cell_type": "code",
      "source": [
        "input_text = \"how are you?\"\n",
        "input_tokens = tokenizer(input_text, return_tensors='pt', padding=True, truncation=True)\n",
        "with torch.no_grad():\n",
        "    model.eval()\n",
        "    input_ids = input_tokens['input_ids'].to(device)\n",
        "    attention_mask = input_tokens['attention_mask'].to(device)\n",
        "\n",
        "    model = model.to(device)\n",
        "\n",
        "    # Generate translations\n",
        "    translation_ids = model.generate(input_ids, attention_mask=attention_mask, max_length=50, num_beams=4)\n",
        "\n",
        "# Decode the generated translation\n",
        "translation_text = tokenizer.decode(translation_ids[0], skip_special_tokens=True)\n",
        "print(\"Input Text:\", input_text)\n",
        "print(\"Translated Text:\", translation_text)"
      ],
      "metadata": {
        "id": "bsgYy15C-mNy",
        "colab": {
          "base_uri": "https://localhost:8080/"
        },
        "outputId": "e9b1c42f-5f40-4e19-9d0b-cfd7f47c8bb7"
      },
      "execution_count": null,
      "outputs": [
        {
          "output_type": "stream",
          "name": "stdout",
          "text": [
            "Input Text: how are you?\n",
            "Translated Text: como estas\n"
          ]
        }
      ]
    },
    {
      "cell_type": "code",
      "source": [
        "# List of input texts\n",
        "input_texts = [\"Whats up\", \"Whats your name\", \"Hows it going\", \"Whats going on\", \"How are you doing\"]\n",
        "\n",
        "# List to store translations\n",
        "translations = []\n",
        "\n",
        "# Loop through each input text\n",
        "for input_text in input_texts:\n",
        "    input_tokens = tokenizer(input_text, return_tensors='pt', padding=True, truncation=True)\n",
        "\n",
        "    with torch.no_grad():\n",
        "        model.eval()\n",
        "        input_ids = input_tokens['input_ids'].to(device)\n",
        "        attention_mask = input_tokens['attention_mask'].to(device)\n",
        "\n",
        "        # Generate translations\n",
        "        translation_ids = model.generate(input_ids, attention_mask=attention_mask, max_length=50, num_beams=4)\n",
        "\n",
        "    # Decode the generated translation\n",
        "    translation_text = tokenizer.decode(translation_ids[0], skip_special_tokens=True)\n",
        "\n",
        "    # Store the translation\n",
        "    translations.append(translation_text)\n",
        "\n",
        "# Print the results\n",
        "for input_text, translation_text in zip(input_texts, translations):\n",
        "    print(\"Input Text:\", input_text)\n",
        "    print(\"Translated Text:\", translation_text)\n",
        "    print('-' * 50)\n"
      ],
      "metadata": {
        "colab": {
          "base_uri": "https://localhost:8080/"
        },
        "id": "UKwQqwGnHFmW",
        "outputId": "76cff5ca-8759-41e6-d400-11186bf05c32"
      },
      "execution_count": null,
      "outputs": [
        {
          "output_type": "stream",
          "name": "stdout",
          "text": [
            "Input Text: Whats up\n",
            "Translated Text: que pasa\n",
            "--------------------------------------------------\n",
            "Input Text: Whats your name\n",
            "Translated Text: como te llamas\n",
            "--------------------------------------------------\n",
            "Input Text: Hows it going\n",
            "Translated Text: cómo va\n",
            "--------------------------------------------------\n",
            "Input Text: Whats going on\n",
            "Translated Text: que esta pasando\n",
            "--------------------------------------------------\n",
            "Input Text: How are you doing\n",
            "Translated Text: como estas\n",
            "--------------------------------------------------\n"
          ]
        }
      ]
    },
    {
      "cell_type": "code",
      "source": [
        "!pip install tqdm nltk sacrebleu\n",
        "from tqdm import tqdm\n",
        "from nltk.translate.bleu_score import corpus_bleu, SmoothingFunction\n",
        "import torch"
      ],
      "metadata": {
        "id": "IUSahCJ8_VK6"
      },
      "execution_count": null,
      "outputs": []
    },
    {
      "cell_type": "markdown",
      "source": [
        "#BLEU Score\n",
        "BLEU stands for billingual evaluation understudy, and is a score between 0 and 1. BLEU score is a metric based on the idea that the closer a generated text is to the human generated target, text the better. Its important to note though, that with language and scentences the quantiative data that is being assesed against the model is human generated, so a scentence can have multiple completley correct translations.\n",
        "\n",
        "With that, the BLEU score will be a score between 0 and 1, with near 0 or 1 scores being not ideal."
      ],
      "metadata": {
        "id": "CLzVg8LjusH8"
      }
    },
    {
      "cell_type": "code",
      "source": [
        "# Switch model to evaluation mode\n",
        "model.eval()\n",
        "\n",
        "# Smoothing function for generated translations with 0 ngrams\n",
        "smooth = SmoothingFunction().method1\n",
        "\n",
        "# Lists to store references and translations\n",
        "references = []\n",
        "translations = []\n",
        "\n",
        "# Iterate over test batches\n",
        "with torch.no_grad():\n",
        "    for batch in tqdm(test_dataloader, desc=\"Translating\"):\n",
        "        input_ids = batch['input_ids'].to(device)\n",
        "        attention_mask = batch['attention_mask'].to(device)\n",
        "\n",
        "        # Generate translations\n",
        "        translation_ids = model.generate(input_ids, attention_mask=attention_mask, max_length=50, num_beams=4)\n",
        "\n",
        "        # Decode the generated translation\n",
        "        generated_text = tokenizer.decode(translation_ids[0], skip_special_tokens=True)\n",
        "\n",
        "        # Fetch corresponding target sequences from the dataset\n",
        "        if 'labels' in batch:\n",
        "            # Training set\n",
        "            target_sequence = tokenizer.decode(batch['labels'][0], skip_special_tokens=True)\n",
        "        else:\n",
        "            # Test set\n",
        "            target_sequence = tokenizer.decode(input_ids[0], skip_special_tokens=True)\n",
        "\n",
        "        # Collect references and translations for evaluation\n",
        "        references.append([target_sequence])\n",
        "        translations.append(generated_text)\n",
        "\n",
        "# Convert references into the format expected by corpus_bleu\n",
        "references = [[reference[0].split()] for reference in references]\n",
        "\n",
        "# Tokenize generated translations for BLEU score calculation\n",
        "generated_tokens = [translation.split() for translation in translations]\n",
        "\n",
        "# Calculate BLEU score with smoothing method\n",
        "bleu_score = corpus_bleu(references, generated_tokens, smoothing_function=smooth)\n",
        "print(\"BLEU Score:\", bleu_score)"
      ],
      "metadata": {
        "id": "xUcFKK0_ujtg",
        "colab": {
          "base_uri": "https://localhost:8080/"
        },
        "outputId": "c1ebec2b-41a7-41a2-b3df-09e6e8be92e6"
      },
      "execution_count": 54,
      "outputs": [
        {
          "output_type": "stream",
          "name": "stderr",
          "text": [
            "Translating: 100%|██████████| 52/52 [01:09<00:00,  1.33s/it]"
          ]
        },
        {
          "output_type": "stream",
          "name": "stdout",
          "text": [
            "BLEU Score: 0.0031966938987175895\n"
          ]
        },
        {
          "output_type": "stream",
          "name": "stderr",
          "text": [
            "\n"
          ]
        }
      ]
    }
  ]
}
