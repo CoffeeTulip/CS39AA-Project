{
  "nbformat": 4,
  "nbformat_minor": 0,
  "metadata": {
    "colab": {
      "provenance": [],
      "toc_visible": true,
      "gpuType": "T4",
      "authorship_tag": "ABX9TyN9EmUFitnLxvnEpb7bCsqx",
      "include_colab_link": true
    },
    "kernelspec": {
      "name": "python3",
      "display_name": "Python 3"
    },
    "language_info": {
      "name": "python"
    },
    "accelerator": "GPU"
  },
  "cells": [
    {
      "cell_type": "markdown",
      "metadata": {
        "id": "view-in-github",
        "colab_type": "text"
      },
      "source": [
        "<a href=\"https://colab.research.google.com/github/CoffeeTulip/CS39AA-Project/blob/main/ProjectPart2b.ipynb\" target=\"_parent\"><img src=\"https://colab.research.google.com/assets/colab-badge.svg\" alt=\"Open In Colab\"/></a>"
      ]
    },
    {
      "cell_type": "markdown",
      "source": [
        "#Imports"
      ],
      "metadata": {
        "id": "LRGNuhXBMLP5"
      }
    },
    {
      "cell_type": "code",
      "source": [
        "from google.colab import drive\n",
        "drive.mount('/content/gdrive')"
      ],
      "metadata": {
        "id": "6C6aWKDqoCrP"
      },
      "execution_count": null,
      "outputs": []
    },
    {
      "cell_type": "code",
      "execution_count": null,
      "metadata": {
        "id": "yjJepZctLyH5"
      },
      "outputs": [],
      "source": [
        "# import all of the python modules/packages you'll need here\n",
        "import pandas as pd\n",
        "import matplotlib.pyplot as plt\n",
        "import numpy as np\n",
        "!pip install datasets\n",
        "!pip install nltk\n",
        "!pip install sentencepiece\n",
        "import datasets\n",
        "from datasets import load_dataset\n",
        "from datasets import DatasetDict\n",
        "import nltk\n",
        "\n",
        "nltk.download('punkt')\n",
        "nltk.download('stopwords')\n",
        "from collections import Counter\n",
        "from nltk.tokenize import word_tokenize\n",
        "from nltk.corpus import stopwords\n",
        "import string"
      ]
    },
    {
      "cell_type": "markdown",
      "source": [
        "#Data Pre-processing"
      ],
      "metadata": {
        "id": "Mms48Ix6MPc1"
      }
    },
    {
      "cell_type": "code",
      "source": [
        "# Convert dataset dict to dataset, seperate the splits from the whole so I can view it and alter it better\n",
        "df = load_dataset(\"Amani27/massive_translation_dataset\")\n",
        "df = DatasetDict(df)\n",
        "\n",
        "df_train = pd.DataFrame.from_dict(df['train'])\n",
        "df_validation = pd.DataFrame.from_dict(df['validation'])\n",
        "df_test = pd.DataFrame.from_dict(df['test'])\n",
        "df = pd.concat([df_train, df_validation, df_test], ignore_index=True)"
      ],
      "metadata": {
        "id": "y9dbCWRXYXNq"
      },
      "execution_count": null,
      "outputs": []
    },
    {
      "cell_type": "code",
      "source": [
        "columns_to_drop = ['id', 'split', 'de_DE', 'hi_IN', 'fr_FR', 'it_IT', 'ar_SA', 'nl_NL', 'ja_JP', 'pt_PT' ]\n",
        "df = df.drop(columns = columns_to_drop)"
      ],
      "metadata": {
        "id": "rpm8KjxuXtyj"
      },
      "execution_count": null,
      "outputs": []
    },
    {
      "cell_type": "code",
      "source": [
        "df.head()"
      ],
      "metadata": {
        "colab": {
          "base_uri": "https://localhost:8080/",
          "height": 206
        },
        "id": "q9PN3GEFYp6d",
        "outputId": "b2c17291-21d6-4f5b-f22b-5e722a3d4ff8"
      },
      "execution_count": null,
      "outputs": [
        {
          "output_type": "execute_result",
          "data": {
            "text/plain": [
              "                                 en_US  \\\n",
              "0      wake me up at nine am on friday   \n",
              "1  set an alarm for two hours from now   \n",
              "2                           olly quiet   \n",
              "3                                 stop   \n",
              "4           olly pause for ten seconds   \n",
              "\n",
              "                                             es_ES  \n",
              "0  despiértame a las nueve de la mañana el viernes  \n",
              "1          pon una alarma en dos horas desde ahora  \n",
              "2                                    olly silencio  \n",
              "3                                            parar  \n",
              "4                          olly para por un minuto  "
            ],
            "text/html": [
              "\n",
              "  <div id=\"df-e6d35262-88e8-471d-8e4e-d3d0a5da537c\" class=\"colab-df-container\">\n",
              "    <div>\n",
              "<style scoped>\n",
              "    .dataframe tbody tr th:only-of-type {\n",
              "        vertical-align: middle;\n",
              "    }\n",
              "\n",
              "    .dataframe tbody tr th {\n",
              "        vertical-align: top;\n",
              "    }\n",
              "\n",
              "    .dataframe thead th {\n",
              "        text-align: right;\n",
              "    }\n",
              "</style>\n",
              "<table border=\"1\" class=\"dataframe\">\n",
              "  <thead>\n",
              "    <tr style=\"text-align: right;\">\n",
              "      <th></th>\n",
              "      <th>en_US</th>\n",
              "      <th>es_ES</th>\n",
              "    </tr>\n",
              "  </thead>\n",
              "  <tbody>\n",
              "    <tr>\n",
              "      <th>0</th>\n",
              "      <td>wake me up at nine am on friday</td>\n",
              "      <td>despiértame a las nueve de la mañana el viernes</td>\n",
              "    </tr>\n",
              "    <tr>\n",
              "      <th>1</th>\n",
              "      <td>set an alarm for two hours from now</td>\n",
              "      <td>pon una alarma en dos horas desde ahora</td>\n",
              "    </tr>\n",
              "    <tr>\n",
              "      <th>2</th>\n",
              "      <td>olly quiet</td>\n",
              "      <td>olly silencio</td>\n",
              "    </tr>\n",
              "    <tr>\n",
              "      <th>3</th>\n",
              "      <td>stop</td>\n",
              "      <td>parar</td>\n",
              "    </tr>\n",
              "    <tr>\n",
              "      <th>4</th>\n",
              "      <td>olly pause for ten seconds</td>\n",
              "      <td>olly para por un minuto</td>\n",
              "    </tr>\n",
              "  </tbody>\n",
              "</table>\n",
              "</div>\n",
              "    <div class=\"colab-df-buttons\">\n",
              "\n",
              "  <div class=\"colab-df-container\">\n",
              "    <button class=\"colab-df-convert\" onclick=\"convertToInteractive('df-e6d35262-88e8-471d-8e4e-d3d0a5da537c')\"\n",
              "            title=\"Convert this dataframe to an interactive table.\"\n",
              "            style=\"display:none;\">\n",
              "\n",
              "  <svg xmlns=\"http://www.w3.org/2000/svg\" height=\"24px\" viewBox=\"0 -960 960 960\">\n",
              "    <path d=\"M120-120v-720h720v720H120Zm60-500h600v-160H180v160Zm220 220h160v-160H400v160Zm0 220h160v-160H400v160ZM180-400h160v-160H180v160Zm440 0h160v-160H620v160ZM180-180h160v-160H180v160Zm440 0h160v-160H620v160Z\"/>\n",
              "  </svg>\n",
              "    </button>\n",
              "\n",
              "  <style>\n",
              "    .colab-df-container {\n",
              "      display:flex;\n",
              "      gap: 12px;\n",
              "    }\n",
              "\n",
              "    .colab-df-convert {\n",
              "      background-color: #E8F0FE;\n",
              "      border: none;\n",
              "      border-radius: 50%;\n",
              "      cursor: pointer;\n",
              "      display: none;\n",
              "      fill: #1967D2;\n",
              "      height: 32px;\n",
              "      padding: 0 0 0 0;\n",
              "      width: 32px;\n",
              "    }\n",
              "\n",
              "    .colab-df-convert:hover {\n",
              "      background-color: #E2EBFA;\n",
              "      box-shadow: 0px 1px 2px rgba(60, 64, 67, 0.3), 0px 1px 3px 1px rgba(60, 64, 67, 0.15);\n",
              "      fill: #174EA6;\n",
              "    }\n",
              "\n",
              "    .colab-df-buttons div {\n",
              "      margin-bottom: 4px;\n",
              "    }\n",
              "\n",
              "    [theme=dark] .colab-df-convert {\n",
              "      background-color: #3B4455;\n",
              "      fill: #D2E3FC;\n",
              "    }\n",
              "\n",
              "    [theme=dark] .colab-df-convert:hover {\n",
              "      background-color: #434B5C;\n",
              "      box-shadow: 0px 1px 3px 1px rgba(0, 0, 0, 0.15);\n",
              "      filter: drop-shadow(0px 1px 2px rgba(0, 0, 0, 0.3));\n",
              "      fill: #FFFFFF;\n",
              "    }\n",
              "  </style>\n",
              "\n",
              "    <script>\n",
              "      const buttonEl =\n",
              "        document.querySelector('#df-e6d35262-88e8-471d-8e4e-d3d0a5da537c button.colab-df-convert');\n",
              "      buttonEl.style.display =\n",
              "        google.colab.kernel.accessAllowed ? 'block' : 'none';\n",
              "\n",
              "      async function convertToInteractive(key) {\n",
              "        const element = document.querySelector('#df-e6d35262-88e8-471d-8e4e-d3d0a5da537c');\n",
              "        const dataTable =\n",
              "          await google.colab.kernel.invokeFunction('convertToInteractive',\n",
              "                                                    [key], {});\n",
              "        if (!dataTable) return;\n",
              "\n",
              "        const docLinkHtml = 'Like what you see? Visit the ' +\n",
              "          '<a target=\"_blank\" href=https://colab.research.google.com/notebooks/data_table.ipynb>data table notebook</a>'\n",
              "          + ' to learn more about interactive tables.';\n",
              "        element.innerHTML = '';\n",
              "        dataTable['output_type'] = 'display_data';\n",
              "        await google.colab.output.renderOutput(dataTable, element);\n",
              "        const docLink = document.createElement('div');\n",
              "        docLink.innerHTML = docLinkHtml;\n",
              "        element.appendChild(docLink);\n",
              "      }\n",
              "    </script>\n",
              "  </div>\n",
              "\n",
              "\n",
              "<div id=\"df-b4fcb1e3-c044-4a55-9c14-469b827722ef\">\n",
              "  <button class=\"colab-df-quickchart\" onclick=\"quickchart('df-b4fcb1e3-c044-4a55-9c14-469b827722ef')\"\n",
              "            title=\"Suggest charts\"\n",
              "            style=\"display:none;\">\n",
              "\n",
              "<svg xmlns=\"http://www.w3.org/2000/svg\" height=\"24px\"viewBox=\"0 0 24 24\"\n",
              "     width=\"24px\">\n",
              "    <g>\n",
              "        <path d=\"M19 3H5c-1.1 0-2 .9-2 2v14c0 1.1.9 2 2 2h14c1.1 0 2-.9 2-2V5c0-1.1-.9-2-2-2zM9 17H7v-7h2v7zm4 0h-2V7h2v10zm4 0h-2v-4h2v4z\"/>\n",
              "    </g>\n",
              "</svg>\n",
              "  </button>\n",
              "\n",
              "<style>\n",
              "  .colab-df-quickchart {\n",
              "      --bg-color: #E8F0FE;\n",
              "      --fill-color: #1967D2;\n",
              "      --hover-bg-color: #E2EBFA;\n",
              "      --hover-fill-color: #174EA6;\n",
              "      --disabled-fill-color: #AAA;\n",
              "      --disabled-bg-color: #DDD;\n",
              "  }\n",
              "\n",
              "  [theme=dark] .colab-df-quickchart {\n",
              "      --bg-color: #3B4455;\n",
              "      --fill-color: #D2E3FC;\n",
              "      --hover-bg-color: #434B5C;\n",
              "      --hover-fill-color: #FFFFFF;\n",
              "      --disabled-bg-color: #3B4455;\n",
              "      --disabled-fill-color: #666;\n",
              "  }\n",
              "\n",
              "  .colab-df-quickchart {\n",
              "    background-color: var(--bg-color);\n",
              "    border: none;\n",
              "    border-radius: 50%;\n",
              "    cursor: pointer;\n",
              "    display: none;\n",
              "    fill: var(--fill-color);\n",
              "    height: 32px;\n",
              "    padding: 0;\n",
              "    width: 32px;\n",
              "  }\n",
              "\n",
              "  .colab-df-quickchart:hover {\n",
              "    background-color: var(--hover-bg-color);\n",
              "    box-shadow: 0 1px 2px rgba(60, 64, 67, 0.3), 0 1px 3px 1px rgba(60, 64, 67, 0.15);\n",
              "    fill: var(--button-hover-fill-color);\n",
              "  }\n",
              "\n",
              "  .colab-df-quickchart-complete:disabled,\n",
              "  .colab-df-quickchart-complete:disabled:hover {\n",
              "    background-color: var(--disabled-bg-color);\n",
              "    fill: var(--disabled-fill-color);\n",
              "    box-shadow: none;\n",
              "  }\n",
              "\n",
              "  .colab-df-spinner {\n",
              "    border: 2px solid var(--fill-color);\n",
              "    border-color: transparent;\n",
              "    border-bottom-color: var(--fill-color);\n",
              "    animation:\n",
              "      spin 1s steps(1) infinite;\n",
              "  }\n",
              "\n",
              "  @keyframes spin {\n",
              "    0% {\n",
              "      border-color: transparent;\n",
              "      border-bottom-color: var(--fill-color);\n",
              "      border-left-color: var(--fill-color);\n",
              "    }\n",
              "    20% {\n",
              "      border-color: transparent;\n",
              "      border-left-color: var(--fill-color);\n",
              "      border-top-color: var(--fill-color);\n",
              "    }\n",
              "    30% {\n",
              "      border-color: transparent;\n",
              "      border-left-color: var(--fill-color);\n",
              "      border-top-color: var(--fill-color);\n",
              "      border-right-color: var(--fill-color);\n",
              "    }\n",
              "    40% {\n",
              "      border-color: transparent;\n",
              "      border-right-color: var(--fill-color);\n",
              "      border-top-color: var(--fill-color);\n",
              "    }\n",
              "    60% {\n",
              "      border-color: transparent;\n",
              "      border-right-color: var(--fill-color);\n",
              "    }\n",
              "    80% {\n",
              "      border-color: transparent;\n",
              "      border-right-color: var(--fill-color);\n",
              "      border-bottom-color: var(--fill-color);\n",
              "    }\n",
              "    90% {\n",
              "      border-color: transparent;\n",
              "      border-bottom-color: var(--fill-color);\n",
              "    }\n",
              "  }\n",
              "</style>\n",
              "\n",
              "  <script>\n",
              "    async function quickchart(key) {\n",
              "      const quickchartButtonEl =\n",
              "        document.querySelector('#' + key + ' button');\n",
              "      quickchartButtonEl.disabled = true;  // To prevent multiple clicks.\n",
              "      quickchartButtonEl.classList.add('colab-df-spinner');\n",
              "      try {\n",
              "        const charts = await google.colab.kernel.invokeFunction(\n",
              "            'suggestCharts', [key], {});\n",
              "      } catch (error) {\n",
              "        console.error('Error during call to suggestCharts:', error);\n",
              "      }\n",
              "      quickchartButtonEl.classList.remove('colab-df-spinner');\n",
              "      quickchartButtonEl.classList.add('colab-df-quickchart-complete');\n",
              "    }\n",
              "    (() => {\n",
              "      let quickchartButtonEl =\n",
              "        document.querySelector('#df-b4fcb1e3-c044-4a55-9c14-469b827722ef button');\n",
              "      quickchartButtonEl.style.display =\n",
              "        google.colab.kernel.accessAllowed ? 'block' : 'none';\n",
              "    })();\n",
              "  </script>\n",
              "</div>\n",
              "\n",
              "    </div>\n",
              "  </div>\n"
            ]
          },
          "metadata": {},
          "execution_count": 5
        }
      ]
    },
    {
      "cell_type": "markdown",
      "source": [
        "#Text cleaning\n",
        "*the text is pretty clean already... but just for practice :D*"
      ],
      "metadata": {
        "id": "39AKIz2EMHhH"
      }
    },
    {
      "cell_type": "code",
      "source": [
        "english_column = 'en_US'\n",
        "spanish_column = 'es_ES'\n",
        "\n",
        "# Tokenize English. The text dataset looked cleaned up already but just to be safe\n",
        "english_text = ' '.join(df[english_column].astype(str).values)\n",
        "english_tokens = word_tokenize(english_text.lower())\n",
        "\n",
        "# Remove stopwords and punctuation\n",
        "stop_words = set(stopwords.words('english') + list(string.punctuation))\n",
        "english_filtered_tokens = [word for word in english_tokens if word.isalnum() and word not in stop_words]\n",
        "\n",
        "# Get the most common words in English\n",
        "english_common_words = Counter(english_filtered_tokens).most_common(10)\n",
        "\n",
        "# Tokenize Spanish\n",
        "spanish_text = ' '.join(df[spanish_column].astype(str).values)\n",
        "spanish_tokens = word_tokenize(spanish_text.lower())  # Convert to lowercase for consistency\n",
        "\n",
        "# Remove stopwords and punctuation\n",
        "stop_words = set(stopwords.words('spanish') + list(string.punctuation))\n",
        "spanish_filtered_tokens = [word for word in spanish_tokens if word.isalnum() and word not in stop_words]\n",
        "\n",
        "# Get the most common words in Spanish\n",
        "spanish_common_words = Counter(spanish_filtered_tokens).most_common(10)\n",
        "\n",
        "\n",
        "# Display the results\n",
        "print(\"Most common words in English:\")\n",
        "print(english_common_words)\n",
        "\n",
        "print(\"\\nMost common words in Spanish:\")\n",
        "print(spanish_common_words)"
      ],
      "metadata": {
        "colab": {
          "base_uri": "https://localhost:8080/"
        },
        "id": "SJgxyg_sMDvk",
        "outputId": "e12699db-556c-46b5-b961-3b28c968e089"
      },
      "execution_count": null,
      "outputs": [
        {
          "output_type": "stream",
          "name": "stdout",
          "text": [
            "Most common words in English:\n",
            "[('please', 1440), ('play', 1173), ('today', 849), ('list', 770), ('email', 718), ('new', 701), ('tell', 697), ('time', 650), ('set', 563), ('olly', 534)]\n",
            "\n",
            "Most common words in Spanish:\n",
            "[('favor', 1284), ('hoy', 865), ('lista', 859), ('correo', 859), ('mañana', 765), ('pon', 728), ('hora', 591), ('electrónico', 554), ('cuál', 542), ('puedes', 511)]\n"
          ]
        }
      ]
    },
    {
      "cell_type": "code",
      "source": [
        "from sklearn.model_selection import train_test_split\n",
        "\n",
        "X = df['en_US'].values\n",
        "y = df['es_ES'].values\n",
        "\n",
        "# Assuming df is your DataFrame with columns 'en_US' and 'es_ES'\n",
        "X_train, X_temp, y_train, y_temp = train_test_split(X, y, test_size=0.2, random_state=42)\n",
        "X_val, X_test, y_val, y_test = train_test_split(X_temp, y_temp, test_size=0.5, random_state=42)"
      ],
      "metadata": {
        "id": "wyVrg06VGq8C"
      },
      "execution_count": null,
      "outputs": []
    },
    {
      "cell_type": "code",
      "source": [
        "X_train = X_train.tolist()\n",
        "X_val = X_val.tolist()\n",
        "X_test = X_test.tolist()\n",
        "y_train = y_train.tolist()\n",
        "y_val = y_val.tolist()\n",
        "y_test = y_test.tolist()"
      ],
      "metadata": {
        "id": "ZHmIjzZ6Lk0l"
      },
      "execution_count": null,
      "outputs": []
    },
    {
      "cell_type": "markdown",
      "source": [
        "#Quick Model\n",
        "##T5-Small Hugging Face Translator model"
      ],
      "metadata": {
        "id": "T5OMLWAEMUE-"
      }
    },
    {
      "cell_type": "code",
      "source": [
        "# Use a pipeline as a high-level helper\n",
        "from transformers import pipeline\n",
        "\n",
        "pipe = pipeline(\"translation\", model=\"t5-small\")\n",
        "\n",
        "# Load model directly\n",
        "from transformers import AutoTokenizer, AutoModelForSeq2SeqLM\n",
        "\n",
        "tokenizer = AutoTokenizer.from_pretrained(\"t5-small\")\n",
        "model = AutoModelForSeq2SeqLM.from_pretrained(\"t5-small\")"
      ],
      "metadata": {
        "id": "RN9OaNuKMTtU"
      },
      "execution_count": null,
      "outputs": []
    },
    {
      "cell_type": "code",
      "source": [
        "import torch\n",
        "from torch.utils.data import DataLoader, Dataset\n",
        "from transformers import T5Tokenizer, T5ForConditionalGeneration, AdamW"
      ],
      "metadata": {
        "id": "cODzmT_-7_Fs"
      },
      "execution_count": null,
      "outputs": []
    },
    {
      "cell_type": "markdown",
      "source": [
        "#Model Class"
      ],
      "metadata": {
        "id": "YzB9R4Qh4vFc"
      }
    },
    {
      "cell_type": "code",
      "source": [
        "class CustomDataset(Dataset):\n",
        "    def __init__(self, input_texts, target_texts, tokenizer, max_length=128, is_test=False):\n",
        "        self.input_texts = input_texts\n",
        "        self.target_texts = target_texts\n",
        "        self.tokenizer = tokenizer\n",
        "        self.max_length = max_length\n",
        "        self.is_test = is_test\n",
        "\n",
        "    def __len__(self):\n",
        "        return len(self.input_texts)\n",
        "\n",
        "    def __getitem__(self, idx):\n",
        "        input_text = self.input_texts[idx]\n",
        "        target_text = self.target_texts[idx]\n",
        "\n",
        "        # Encode input text\n",
        "        inputs = self.tokenizer.encode_plus(\n",
        "            input_text,\n",
        "            max_length=self.max_length,\n",
        "            padding='max_length',\n",
        "            truncation=True,\n",
        "            return_tensors='pt'\n",
        "        )\n",
        "\n",
        "        if self.is_test:\n",
        "            # For test set, only input_ids and attention_mask are needed\n",
        "            return {\n",
        "                'input_ids': inputs['input_ids'].squeeze(),\n",
        "                'attention_mask': inputs['attention_mask'].squeeze(),\n",
        "            }\n",
        "        else:\n",
        "            # Encode target text for training\n",
        "            targets = self.tokenizer.encode_plus(\n",
        "                target_text,\n",
        "                max_length=self.max_length,\n",
        "                padding='max_length',\n",
        "                truncation=True,\n",
        "                return_tensors='pt'\n",
        "            )\n",
        "\n",
        "            return {\n",
        "                'input_ids': inputs['input_ids'].squeeze(),\n",
        "                'attention_mask': inputs['attention_mask'].squeeze(),\n",
        "                'labels': targets['input_ids'].squeeze()\n",
        "            }"
      ],
      "metadata": {
        "id": "IGkOiz7j8NZS"
      },
      "execution_count": null,
      "outputs": []
    },
    {
      "cell_type": "code",
      "source": [
        "tokenizer = T5Tokenizer.from_pretrained('t5-small')\n",
        "\n",
        "english_tokens = tokenizer(X_train, return_tensors='pt', padding=True, truncation=True)\n",
        "valid_english_tokens = tokenizer(X_val, return_tensors='pt', padding=True, truncation=True)\n",
        "test_english_tokens = tokenizer(X_test, return_tensors='pt', padding=True, truncation=True)\n",
        "\n",
        "spanish_tokens = tokenizer(y_train, return_tensors='pt', padding=True, truncation=True)\n",
        "valid_spanish_tokens = tokenizer(y_val, return_tensors='pt', padding=True, truncation=True)\n",
        "test_spanish_tokens = tokenizer(y_test, return_tensors='pt', padding=True, truncation=True)"
      ],
      "metadata": {
        "id": "YWePakz-8TOu"
      },
      "execution_count": null,
      "outputs": []
    },
    {
      "cell_type": "code",
      "source": [
        "test_dataset = CustomDataset(X_test, y_test, tokenizer, is_test=True)\n",
        "\n",
        "test_dataloader = DataLoader(test_dataset, batch_size=32, shuffle=True)"
      ],
      "metadata": {
        "id": "g2Z5EnU-9gdf"
      },
      "execution_count": null,
      "outputs": []
    },
    {
      "cell_type": "markdown",
      "source": [
        "#Model Training"
      ],
      "metadata": {
        "id": "7MF8Ct3C4pL3"
      }
    },
    {
      "cell_type": "code",
      "source": [
        "learning_rates = [.01, .001]\n",
        "batch_sizes = [16, 32, 64]\n",
        "\n",
        "num_epochs = 1\n",
        "device = torch.device(\"cuda\" if torch.cuda.is_available() else \"cpu\")\n",
        "\n",
        "dataset = CustomDataset(X_train, y_train, tokenizer)\n",
        "valid_dataset = CustomDataset(X_val, y_val, tokenizer)\n",
        "\n",
        "train_losses = []\n",
        "val_losses = []\n",
        "\n",
        "for lr in learning_rates:\n",
        "    for batch_size in batch_sizes:\n",
        "\n",
        "      dataloader = DataLoader(dataset, batch_size=batch_size, shuffle=True)\n",
        "      valid_dataloader = DataLoader(valid_dataset, batch_size=batch_size, shuffle=True)\n",
        "\n",
        "      model = T5ForConditionalGeneration.from_pretrained('t5-small')\n",
        "      optimizer = AdamW(model.parameters(), lr=lr)\n",
        "      scheduler = torch.optim.lr_scheduler.StepLR(optimizer, step_size=1, gamma=0.9)\n",
        "      #------------------------------------------------------------------------------\n",
        "      model.to(device)\n",
        "      model.train()\n",
        "\n",
        "      epoch_train_losses = []\n",
        "      epoch_val_losses = []\n",
        "\n",
        "      for epoch in range(num_epochs):\n",
        "          # Training phase\n",
        "          for batch in dataloader:\n",
        "              input_ids = batch['input_ids'].to(device)\n",
        "              attention_mask = batch['attention_mask'].to(device)\n",
        "              labels = batch['labels'].to(device)\n",
        "\n",
        "              outputs = model(input_ids, attention_mask=attention_mask, labels=labels)\n",
        "              loss = outputs.loss\n",
        "\n",
        "              optimizer.zero_grad()\n",
        "              loss.backward()\n",
        "              optimizer.step()\n",
        "\n",
        "          # Validation phase\n",
        "          model.eval()\n",
        "          total_validation_loss = 0.0\n",
        "\n",
        "          with torch.no_grad():\n",
        "              for batch_val in valid_dataloader:\n",
        "                  input_ids_val = batch_val['input_ids'].to(device)\n",
        "                  attention_mask_val = batch_val['attention_mask'].to(device)\n",
        "                  labels_val = batch_val['labels'].to(device)\n",
        "\n",
        "                  outputs_val = model(input_ids_val, attention_mask=attention_mask_val, labels=labels_val)\n",
        "                  loss_val = outputs_val.loss\n",
        "\n",
        "                  total_validation_loss += loss_val.item()\n",
        "\n",
        "          average_validation_loss = total_validation_loss / len(valid_dataloader)\n",
        "\n",
        "          # Store losses for the current epoch\n",
        "          epoch_train_losses.append(loss.item())\n",
        "          epoch_val_losses.append(average_validation_loss)\n",
        "\n",
        "          print(f'Epoch {epoch + 1}/{num_epochs}, Training Loss: {loss.item()}, Validation Loss: {average_validation_loss}')\n",
        "\n",
        "          # Set the model back to training mode\n",
        "          model.train()\n",
        "\n",
        "      # Append the final losses for this combination\n",
        "      train_losses.append(epoch_train_losses)\n",
        "      val_losses.append(epoch_val_losses)\n",
        "\n",
        "# Save the trained model\n",
        "model.save_pretrained('/content/gdrive/My Drive/Colab Notebooks/CS39AA/En_ES_Dataframe')\n",
        "tokenizer.save_pretrained('/content/gdrive/My Drive/Colab Notebooks/CS39AA/En_ES_Dataframe_tokens')\n",
        "\n",
        "# For memory problem when fine tuning:\n",
        "# Could add gradient clipping\n",
        "# Could add gradient accumulation"
      ],
      "metadata": {
        "id": "NrRGiQZn9jLI"
      },
      "execution_count": null,
      "outputs": []
    },
    {
      "cell_type": "markdown",
      "source": [
        "#Load from saved model\n",
        "i added this cell for testing purposes"
      ],
      "metadata": {
        "id": "RJCdHJBp4Nv8"
      }
    },
    {
      "cell_type": "code",
      "source": [
        "from transformers import T5ForConditionalGeneration, T5Tokenizer\n",
        "\n",
        "# Define the paths where you saved the model and tokenizer\n",
        "model_path = '/content/gdrive/My Drive/Colab Notebooks/CS39AA/En_ES_Dataframe'\n",
        "tokenizer_path = '/content/gdrive/My Drive/Colab Notebooks/CS39AA/En_ES_Dataframe_tokens'\n",
        "\n",
        "# Load the model\n",
        "model = T5ForConditionalGeneration.from_pretrained(model_path)\n",
        "\n",
        "# Load the tokenizer\n",
        "tokenizer = T5Tokenizer.from_pretrained(tokenizer_path)"
      ],
      "metadata": {
        "id": "l1trsFIc4XMz"
      },
      "execution_count": null,
      "outputs": []
    },
    {
      "cell_type": "code",
      "source": [
        "!pip install tabulate"
      ],
      "metadata": {
        "colab": {
          "base_uri": "https://localhost:8080/"
        },
        "id": "3P-6nqUs4JD6",
        "outputId": "0719923d-14b4-41f4-d8e7-7988dae0426f"
      },
      "execution_count": null,
      "outputs": [
        {
          "output_type": "stream",
          "name": "stdout",
          "text": [
            "Requirement already satisfied: tabulate in /usr/local/lib/python3.10/dist-packages (0.9.0)\n"
          ]
        }
      ]
    },
    {
      "cell_type": "code",
      "source": [
        "from tabulate import tabulate\n",
        "\n",
        "# Print a table\n",
        "table_data = []\n",
        "for i, lr in enumerate(learning_rates):\n",
        "    for j, batch_size in enumerate(batch_sizes):\n",
        "        table_data.append([f'LR={lr}, Batch={batch_size}', train_losses[i * len(batch_sizes) + j][-1], val_losses[i * len(batch_sizes) + j][-1]])\n",
        "\n",
        "headers = ['Combination', 'Train Loss', 'Validation Loss']\n",
        "table = tabulate(table_data, headers, tablefmt='grid', numalign=\"center\", stralign=\"center\")\n",
        "\n",
        "print(\"Loss Values for Each Combination:\")\n",
        "print(table)"
      ],
      "metadata": {
        "colab": {
          "base_uri": "https://localhost:8080/"
        },
        "id": "AkDZm46J4KP7",
        "outputId": "c3f2130a-396e-4d52-8b9b-a04627899e4d"
      },
      "execution_count": null,
      "outputs": [
        {
          "output_type": "stream",
          "name": "stdout",
          "text": [
            "Loss Values for Each Combination:\n",
            "+--------------------+--------------+-------------------+\n",
            "|    Combination     |  Train Loss  |  Validation Loss  |\n",
            "+====================+==============+===================+\n",
            "| LR=0.01, Batch=16  |   0.683393   |     0.522851      |\n",
            "+--------------------+--------------+-------------------+\n",
            "| LR=0.01, Batch=32  |   0.291594   |     0.259436      |\n",
            "+--------------------+--------------+-------------------+\n",
            "| LR=0.01, Batch=64  |   0.354585   |     0.335522      |\n",
            "+--------------------+--------------+-------------------+\n",
            "| LR=0.001, Batch=16 |   0.130829   |     0.155418      |\n",
            "+--------------------+--------------+-------------------+\n",
            "| LR=0.001, Batch=32 |   0.231616   |     0.191537      |\n",
            "+--------------------+--------------+-------------------+\n",
            "| LR=0.001, Batch=64 |   0.27282    |     0.236568      |\n",
            "+--------------------+--------------+-------------------+\n"
          ]
        }
      ]
    },
    {
      "cell_type": "code",
      "source": [
        "# Bar graph\n",
        "width = 0.35\n",
        "x = np.arange(len(learning_rates) * len(batch_sizes))\n",
        "\n",
        "fig, ax = plt.subplots(figsize=(12, 6))\n",
        "for i, lr in enumerate(learning_rates):\n",
        "    for j, batch_size in enumerate(batch_sizes):\n",
        "        train_bar = ax.bar(x[i * len(batch_sizes) + j] - width/2, train_losses[i * len(batch_sizes) + j][-1], width, label=f'Train LR={lr}, Batch={batch_size}')\n",
        "        val_bar = ax.bar(x[i * len(batch_sizes) + j] + width/2, val_losses[i * len(batch_sizes) + j][-1], width, label=f'Val LR={lr}, Batch={batch_size}', hatch='//')\n",
        "\n",
        "ax.set_xticks(x)\n",
        "ax.set_xticklabels([f'LR={lr}, Batch={batch_size}' for lr in learning_rates for batch_size in batch_sizes])\n",
        "ax.set_xlabel('Learning Rate and Batch Size')\n",
        "ax.set_ylabel('Loss')\n",
        "ax.legend(loc='upper left', bbox_to_anchor=(1, 1))\n",
        "plt.show()"
      ],
      "metadata": {
        "colab": {
          "base_uri": "https://localhost:8080/",
          "height": 542
        },
        "id": "dHuYcLBq2EDl",
        "outputId": "40073d65-30fd-4dda-b985-571145f99362"
      },
      "execution_count": null,
      "outputs": [
        {
          "output_type": "display_data",
          "data": {
            "text/plain": [
              "<Figure size 1200x600 with 1 Axes>"
            ],
            "image/png": "[encoded data removed]"
          },
          "metadata": {}
        }
      ]
    },
    {
      "cell_type": "code",
      "source": [
        "input_text = \"how are you?\"\n",
        "input_tokens = tokenizer(input_text, return_tensors='pt', padding=True, truncation=True)\n",
        "with torch.no_grad():\n",
        "    model.eval()\n",
        "    input_ids = input_tokens['input_ids'].to(device)\n",
        "    attention_mask = input_tokens['attention_mask'].to(device)\n",
        "\n",
        "    model = model.to(device)\n",
        "\n",
        "    # Generate translations\n",
        "    translation_ids = model.generate(input_ids, attention_mask=attention_mask, max_length=50, num_beams=4)\n",
        "\n",
        "# Decode the generated translation\n",
        "translation_text = tokenizer.decode(translation_ids[0], skip_special_tokens=True)\n",
        "print(\"Input Text:\", input_text)\n",
        "print(\"Translated Text:\", translation_text)"
      ],
      "metadata": {
        "id": "bsgYy15C-mNy",
        "colab": {
          "base_uri": "https://localhost:8080/"
        },
        "outputId": "6c7f44ae-b126-46a5-8890-f78f5c9dc8d2"
      },
      "execution_count": null,
      "outputs": [
        {
          "output_type": "stream",
          "name": "stdout",
          "text": [
            "Input Text: hi?\n",
            "Translated Text: aado el correo electrónico\n"
          ]
        }
      ]
    },
    {
      "cell_type": "code",
      "source": [
        "!pip install tqdm nltk sacrebleu\n",
        "from tqdm import tqdm\n",
        "from nltk.translate.bleu_score import corpus_bleu\n",
        "import torch"
      ],
      "metadata": {
        "id": "IUSahCJ8_VK6"
      },
      "execution_count": null,
      "outputs": []
    },
    {
      "cell_type": "markdown",
      "source": [
        "#BLEU Score\n",
        "BLEU stands for billingual evaluation understudy, and is a score between 0 and 1. BLEU score is a metric based on the idea that the closer a generated text is to the human generated target, text the better. Its important to note though, that with language and scentences the quantiative data that is being assesed against the model is human generated, so a scentence can have multiple completley correct translations.\n",
        "\n",
        "With that, the BLEU score will be a score between 0 and 1, with near 0 or 1 scores being not ideal."
      ],
      "metadata": {
        "id": "CLzVg8LjusH8"
      }
    },
    {
      "cell_type": "code",
      "source": [
        "# Switch model to evaluation mode\n",
        "model.eval()\n",
        "\n",
        "# Lists to store references and translations\n",
        "references = []\n",
        "translations = []\n",
        "\n",
        "# Iterate over test batches\n",
        "with torch.no_grad():\n",
        "    for batch in tqdm(test_dataloader, desc=\"Translating\"):\n",
        "        input_ids = batch['input_ids'].to(device)\n",
        "        attention_mask = batch['attention_mask'].to(device)\n",
        "\n",
        "        # Generate translations\n",
        "        translation_ids = model.generate(input_ids, attention_mask=attention_mask, max_length=50, num_beams=4)\n",
        "\n",
        "        # Decode the generated translation\n",
        "        generated_text = tokenizer.decode(translation_ids[0], skip_special_tokens=True)\n",
        "\n",
        "        # Fetch corresponding target sequences from the dataset\n",
        "        if 'labels' in batch:\n",
        "            # Training set\n",
        "            target_sequence = tokenizer.decode(batch['labels'][0], skip_special_tokens=True)\n",
        "        else:\n",
        "            # Test set\n",
        "            target_sequence = tokenizer.decode(input_ids[0], skip_special_tokens=True)\n",
        "\n",
        "        # Collect references and translations for evaluation\n",
        "        references.append([target_sequence])\n",
        "        translations.append(generated_text)\n",
        "\n",
        "# Calculate BLEU score\n",
        "from nltk.translate.bleu_score import corpus_bleu\n",
        "\n",
        "# Convert references into the format expected by corpus_bleu\n",
        "references = [[reference[0].split()] for reference in references]\n",
        "\n",
        "# Tokenize generated translations for BLEU score calculation\n",
        "generated_tokens = [translation.split() for translation in translations]\n",
        "\n",
        "# Calculate BLEU score\n",
        "bleu_score = corpus_bleu(references, generated_tokens)\n",
        "print(\"BLEU Score:\", bleu_score)"
      ],
      "metadata": {
        "id": "xUcFKK0_ujtg",
        "colab": {
          "base_uri": "https://localhost:8080/"
        },
        "outputId": "463b3fbc-7e54-4a8b-e04b-ad42c61888e4"
      },
      "execution_count": null,
      "outputs": [
        {
          "output_type": "stream",
          "name": "stderr",
          "text": [
            "Translating: 100%|██████████| 52/52 [01:21<00:00,  1.56s/it]"
          ]
        },
        {
          "output_type": "stream",
          "name": "stdout",
          "text": [
            "BLEU Score: 0.018476796670118017\n"
          ]
        },
        {
          "output_type": "stream",
          "name": "stderr",
          "text": [
            "\n"
          ]
        }
      ]
    }
  ]
}